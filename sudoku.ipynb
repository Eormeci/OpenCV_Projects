{
 "cells": [
  {
   "cell_type": "code",
   "execution_count": 1,
   "metadata": {},
   "outputs": [
    {
     "data": {
      "text/plain": [
       "-1"
      ]
     },
     "execution_count": 1,
     "metadata": {},
     "output_type": "execute_result"
    }
   ],
   "source": [
    "import cv2\n",
    "import numpy as np\n",
    "\n",
    "def canny_edge_detection(image):\n",
    "\n",
    "    # Görüntü blurlanıyor.\n",
    "    blur = cv2.GaussianBlur(image, (5, 5), 0)\n",
    "\n",
    "    # Kenarların tespiti.\n",
    "    edges = cv2.Canny(blur, 50, 150)\n",
    "\n",
    "    # Kenarları üç kanallı(RGB) bir array'e dönüştür\n",
    "    edges = cv2.cvtColor(edges, cv2.COLOR_GRAY2BGR)\n",
    "\n",
    "    # Kenarları güçlendirme\n",
    "    edges = cv2.dilate(edges, None, iterations=1)\n",
    "    edges = cv2.erode(edges, None, iterations=1)\n",
    "\n",
    "    # Kenarları inceltme\n",
    "    edges = cv2.threshold(edges, 127, 255, cv2.THRESH_BINARY)[1]\n",
    "\n",
    "    return edges\n",
    "\n",
    "# Görüntüyü yükle\n",
    "image = cv2.imread(\"resim3.jpg\")\n",
    "\n",
    "# Kenar algılama işlemini uygula\n",
    "edges = canny_edge_detection(image)\n",
    "\n",
    "# Kenarları görüntüye ekle\n",
    "image = cv2.addWeighted(image, 0.5, edges, 0.5, 0)\n",
    "\n",
    "# Görüntüyü göster\n",
    "cv2.imshow(\"Output\", image)\n",
    "cv2.waitKey(0)"
   ]
  }
 ],
 "metadata": {
  "kernelspec": {
   "display_name": "base",
   "language": "python",
   "name": "python3"
  },
  "language_info": {
   "codemirror_mode": {
    "name": "ipython",
    "version": 3
   },
   "file_extension": ".py",
   "mimetype": "text/x-python",
   "name": "python",
   "nbconvert_exporter": "python",
   "pygments_lexer": "ipython3",
   "version": "3.11.3"
  }
 },
 "nbformat": 4,
 "nbformat_minor": 2
}
