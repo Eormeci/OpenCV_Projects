{
 "cells": [
  {
   "cell_type": "code",
   "execution_count": 1,
   "metadata": {},
   "outputs": [
    {
     "data": {
      "text/plain": [
       "True"
      ]
     },
     "execution_count": 1,
     "metadata": {},
     "output_type": "execute_result"
    }
   ],
   "source": [
    "import cv2\n",
    "import numpy as np\n",
    "import pandas as pd\n",
    "\n",
    "# Resmi yüklüyoruz\n",
    "resim1 = cv2.imread(\"resim1.jpg\")\n",
    "\n",
    "# BGR renk uzayından HSV renk uzayına dönüştürüyoruz.\n",
    "hsv = cv2.cvtColor(resim1, cv2.COLOR_BGR2HSV)   \n",
    "\n",
    "# Yeşil renk aralığını belirliyoruz , bu HSV paletinden seçiliyor.\n",
    "min_h = 35\n",
    "max_h = 80\n",
    "min_s = 100\n",
    "max_s = 255\n",
    "min_v = 100\n",
    "max_v = 255\n",
    "\n",
    "# Yeşil renk değerlerini buluyoruz.\n",
    "maske = cv2.inRange(hsv, (min_h, min_s, min_v), (max_h, max_s, max_v))\n",
    "\n",
    "#Kenarları buluyoruz.\n",
    "edges = cv2.Canny(maske, 100, 200)\n",
    "\n",
    "# Kenarlardan konturları buluyoruz . \n",
    "#İlk argüman, konturların bulunacağı kaynak görüntüdür.\n",
    "#İkinci argüman, kontur alma modudur. Bu mod, konturların nasıl bulunacağını belirler.\n",
    "#Üçüncü argüman, kontur yaklaşım metodudur. Bu metod, konturların nasıl yakınlaştırılacağını belirler.\n",
    "\n",
    "contours, hierarchy = cv2.findContours(edges, cv2.RETR_LIST, cv2.CHAIN_APPROX_SIMPLE)\n",
    "\n",
    "# Her bir konturun çevresini kare içine alıyoruz.\n",
    "for contour in contours:\n",
    "    x, y, w, h = cv2.boundingRect(contour)\n",
    "    cv2.rectangle(resim1, (x, y), (x + w, y + h), (0, 0, 255), 2)\n",
    "\n",
    "# Kare içine alınan resmi kaydediyoruz.\n",
    "cv2.imwrite(\"resim1_cevap.jpg\", resim1)"
   ]
  }
 ],
 "metadata": {
  "kernelspec": {
   "display_name": "base",
   "language": "python",
   "name": "python3"
  },
  "language_info": {
   "codemirror_mode": {
    "name": "ipython",
    "version": 3
   },
   "file_extension": ".py",
   "mimetype": "text/x-python",
   "name": "python",
   "nbconvert_exporter": "python",
   "pygments_lexer": "ipython3",
   "version": "3.11.3"
  }
 },
 "nbformat": 4,
 "nbformat_minor": 2
}
